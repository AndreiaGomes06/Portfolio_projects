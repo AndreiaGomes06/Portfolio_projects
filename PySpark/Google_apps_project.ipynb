{
 "cells": [
  {
   "cell_type": "markdown",
   "id": "9176221b",
   "metadata": {},
   "source": [
    "### Import libraries"
   ]
  },
  {
   "cell_type": "code",
   "execution_count": 117,
   "id": "82169dc6",
   "metadata": {},
   "outputs": [],
   "source": [
    "import pyspark\n",
    "from pyspark.sql import SparkSession\n",
    "from pyspark.sql.types import StructType, StringType, IntegerType, DoubleType\n",
    "from pyspark.sql.functions import regexp_replace, col\n",
    "from pyspark.sql.functions import *"
   ]
  },
  {
   "cell_type": "markdown",
   "id": "38af9c94",
   "metadata": {},
   "source": [
    "### Create a Spark session"
   ]
  },
  {
   "cell_type": "code",
   "execution_count": 3,
   "id": "fec0db8d",
   "metadata": {},
   "outputs": [],
   "source": [
    "spark = SparkSession.builder.appName('Googel_apps').getOrCreate()"
   ]
  },
  {
   "cell_type": "markdown",
   "id": "c87bf8c6",
   "metadata": {},
   "source": [
    "### Import a the googlestore.csv dataset"
   ]
  },
  {
   "cell_type": "code",
   "execution_count": 158,
   "id": "71a95d09",
   "metadata": {},
   "outputs": [
    {
     "name": "stdout",
     "output_type": "stream",
     "text": [
      "+--------------------+--------------+------+-------+----+-----------+----+-----+--------------+--------------------+----------------+------------------+------------+\n",
      "|                 App|      Category|Rating|Reviews|Size|   Installs|Type|Price|Content Rating|              Genres|    Last Updated|       Current Ver| Android Ver|\n",
      "+--------------------+--------------+------+-------+----+-----------+----+-----+--------------+--------------------+----------------+------------------+------------+\n",
      "|Photo Editor & Ca...|ART_AND_DESIGN|   4.1|    159| 19M|    10,000+|Free|    0|      Everyone|        Art & Design| January 7, 2018|             1.0.0|4.0.3 and up|\n",
      "| Coloring book moana|ART_AND_DESIGN|   3.9|    967| 14M|   500,000+|Free|    0|      Everyone|Art & Design;Pret...|January 15, 2018|             2.0.0|4.0.3 and up|\n",
      "|U Launcher Lite â...|ART_AND_DESIGN|   4.7|  87510|8.7M| 5,000,000+|Free|    0|      Everyone|        Art & Design|  August 1, 2018|             1.2.4|4.0.3 and up|\n",
      "|Sketch - Draw & P...|ART_AND_DESIGN|   4.5| 215644| 25M|50,000,000+|Free|    0|          Teen|        Art & Design|    June 8, 2018|Varies with device|  4.2 and up|\n",
      "|Pixel Draw - Numb...|ART_AND_DESIGN|   4.3|    967|2.8M|   100,000+|Free|    0|      Everyone|Art & Design;Crea...|   June 20, 2018|               1.1|  4.4 and up|\n",
      "+--------------------+--------------+------+-------+----+-----------+----+-----+--------------+--------------------+----------------+------------------+------------+\n",
      "only showing top 5 rows\n",
      "\n"
     ]
    }
   ],
   "source": [
    "df = spark.read.csv('googlestore.csv', sep = ';', header = True, escape = '\"', inferSchema = True)\n",
    "\n",
    "# Show the first 5 rows\n",
    "df.show(5)"
   ]
  },
  {
   "cell_type": "markdown",
   "id": "9bbe223a",
   "metadata": {},
   "source": [
    "#### Number of records of the dataset"
   ]
  },
  {
   "cell_type": "code",
   "execution_count": 159,
   "id": "9164eb6a",
   "metadata": {},
   "outputs": [
    {
     "data": {
      "text/plain": [
       "10841"
      ]
     },
     "execution_count": 159,
     "metadata": {},
     "output_type": "execute_result"
    }
   ],
   "source": [
    "df.count()"
   ]
  },
  {
   "cell_type": "markdown",
   "id": "efdcf8a2",
   "metadata": {},
   "source": [
    "#### Check the data types of the columns"
   ]
  },
  {
   "cell_type": "code",
   "execution_count": 160,
   "id": "4ab6b3d0",
   "metadata": {},
   "outputs": [
    {
     "data": {
      "text/plain": [
       "[('App', 'string'),\n",
       " ('Category', 'string'),\n",
       " ('Rating', 'double'),\n",
       " ('Reviews', 'int'),\n",
       " ('Size', 'string'),\n",
       " ('Installs', 'string'),\n",
       " ('Type', 'string'),\n",
       " ('Price', 'string'),\n",
       " ('Content Rating', 'string'),\n",
       " ('Genres', 'string'),\n",
       " ('Last Updated', 'string'),\n",
       " ('Current Ver', 'string'),\n",
       " ('Android Ver', 'string')]"
      ]
     },
     "execution_count": 160,
     "metadata": {},
     "output_type": "execute_result"
    }
   ],
   "source": [
    "df.dtypes"
   ]
  },
  {
   "cell_type": "markdown",
   "id": "73c5819a",
   "metadata": {},
   "source": [
    "#### Check Schema"
   ]
  },
  {
   "cell_type": "code",
   "execution_count": 161,
   "id": "91bd2508",
   "metadata": {},
   "outputs": [
    {
     "name": "stdout",
     "output_type": "stream",
     "text": [
      "root\n",
      " |-- App: string (nullable = true)\n",
      " |-- Category: string (nullable = true)\n",
      " |-- Rating: double (nullable = true)\n",
      " |-- Reviews: integer (nullable = true)\n",
      " |-- Size: string (nullable = true)\n",
      " |-- Installs: string (nullable = true)\n",
      " |-- Type: string (nullable = true)\n",
      " |-- Price: string (nullable = true)\n",
      " |-- Content Rating: string (nullable = true)\n",
      " |-- Genres: string (nullable = true)\n",
      " |-- Last Updated: string (nullable = true)\n",
      " |-- Current Ver: string (nullable = true)\n",
      " |-- Android Ver: string (nullable = true)\n",
      "\n"
     ]
    }
   ],
   "source": [
    "df.printSchema()"
   ]
  },
  {
   "cell_type": "markdown",
   "id": "90112edc",
   "metadata": {},
   "source": [
    "As we can see, some column types are incorrectly assigned even though InferSchema is set to True,so it is necessary to manually assign the correct types to the columns."
   ]
  },
  {
   "cell_type": "markdown",
   "id": "1a372016",
   "metadata": {},
   "source": [
    "### Data cleaning"
   ]
  },
  {
   "cell_type": "markdown",
   "id": "1d6425dc",
   "metadata": {},
   "source": [
    "#### Drop non informational columns"
   ]
  },
  {
   "cell_type": "code",
   "execution_count": 162,
   "id": "ae6f7a44",
   "metadata": {},
   "outputs": [],
   "source": [
    "# Drop column 'Size', 'Content Rating', 'Last Updated', 'Android Ver'\n",
    "df = df.drop('Size', 'Content Rating', 'Last Updated', 'Android Ver', 'Current Ver')"
   ]
  },
  {
   "cell_type": "code",
   "execution_count": 163,
   "id": "a9d4d1b4",
   "metadata": {},
   "outputs": [
    {
     "name": "stdout",
     "output_type": "stream",
     "text": [
      "+--------------------+--------------+------+-------+-----------+----+-----+--------------------+\n",
      "|                 App|      Category|Rating|Reviews|   Installs|Type|Price|              Genres|\n",
      "+--------------------+--------------+------+-------+-----------+----+-----+--------------------+\n",
      "|Photo Editor & Ca...|ART_AND_DESIGN|   4.1|    159|    10,000+|Free|    0|        Art & Design|\n",
      "| Coloring book moana|ART_AND_DESIGN|   3.9|    967|   500,000+|Free|    0|Art & Design;Pret...|\n",
      "|U Launcher Lite â...|ART_AND_DESIGN|   4.7|  87510| 5,000,000+|Free|    0|        Art & Design|\n",
      "|Sketch - Draw & P...|ART_AND_DESIGN|   4.5| 215644|50,000,000+|Free|    0|        Art & Design|\n",
      "|Pixel Draw - Numb...|ART_AND_DESIGN|   4.3|    967|   100,000+|Free|    0|Art & Design;Crea...|\n",
      "|Paper flowers ins...|ART_AND_DESIGN|   4.4|    167|    50,000+|Free|    0|        Art & Design|\n",
      "|Smoke Effect Phot...|ART_AND_DESIGN|   3.8|    178|    50,000+|Free|    0|        Art & Design|\n",
      "|    Infinite Painter|ART_AND_DESIGN|   4.1|  36815| 1,000,000+|Free|    0|        Art & Design|\n",
      "|Garden Coloring Book|ART_AND_DESIGN|   4.4|  13791| 1,000,000+|Free|    0|        Art & Design|\n",
      "|Kids Paint Free -...|ART_AND_DESIGN|   4.7|    121|    10,000+|Free|    0|Art & Design;Crea...|\n",
      "|Text on Photo - F...|ART_AND_DESIGN|   4.4|  13880| 1,000,000+|Free|    0|        Art & Design|\n",
      "|Name Art Photo Ed...|ART_AND_DESIGN|   4.4|   8788| 1,000,000+|Free|    0|        Art & Design|\n",
      "|Tattoo Name On My...|ART_AND_DESIGN|   4.2|  44829|10,000,000+|Free|    0|        Art & Design|\n",
      "|Mandala Coloring ...|ART_AND_DESIGN|   4.6|   4326|   100,000+|Free|    0|        Art & Design|\n",
      "|3D Color Pixel by...|ART_AND_DESIGN|   4.4|   1518|   100,000+|Free|    0|        Art & Design|\n",
      "|Learn To Draw Kaw...|ART_AND_DESIGN|   3.2|     55|     5,000+|Free|    0|        Art & Design|\n",
      "|Photo Designer - ...|ART_AND_DESIGN|   4.7|   3632|   500,000+|Free|    0|        Art & Design|\n",
      "|350 Diy Room Deco...|ART_AND_DESIGN|   4.5|     27|    10,000+|Free|    0|        Art & Design|\n",
      "|FlipaClip - Carto...|ART_AND_DESIGN|   4.3| 194216| 5,000,000+|Free|    0|        Art & Design|\n",
      "|        ibis Paint X|ART_AND_DESIGN|   4.6| 224399|10,000,000+|Free|    0|        Art & Design|\n",
      "+--------------------+--------------+------+-------+-----------+----+-----+--------------------+\n",
      "only showing top 20 rows\n",
      "\n"
     ]
    }
   ],
   "source": [
    "df.show()"
   ]
  },
  {
   "cell_type": "code",
   "execution_count": 164,
   "id": "d9a18d8e",
   "metadata": {},
   "outputs": [
    {
     "name": "stdout",
     "output_type": "stream",
     "text": [
      "root\n",
      " |-- App: string (nullable = true)\n",
      " |-- Category: string (nullable = true)\n",
      " |-- Rating: double (nullable = true)\n",
      " |-- Reviews: integer (nullable = true)\n",
      " |-- Installs: string (nullable = true)\n",
      " |-- Type: string (nullable = true)\n",
      " |-- Price: string (nullable = true)\n",
      " |-- Genres: string (nullable = true)\n",
      "\n"
     ]
    }
   ],
   "source": [
    "df.printSchema()"
   ]
  },
  {
   "cell_type": "markdown",
   "id": "1ecc7452",
   "metadata": {},
   "source": [
    "#### Set the correct types for each column"
   ]
  },
  {
   "cell_type": "markdown",
   "id": "83392a6e",
   "metadata": {},
   "source": [
    "Transform the \"Rating\" column into double type and the \"Reviews\" column into integer type. For the \"Installs\" and \"Price\" columns, we need to remove the '+' (everything other than a digit) and '$' symbol before transforming them into integer type."
   ]
  },
  {
   "cell_type": "code",
   "execution_count": 165,
   "id": "dc174a31",
   "metadata": {},
   "outputs": [],
   "source": [
    "df = df.withColumn(\"Reviews\", col(\"Reviews\").cast(IntegerType()))\\\n",
    ".withColumn(\"Installs\", regexp_replace(col(\"Installs\"), \"[^0-9]\", \"\"))\\\n",
    "    .withColumn(\"Installs\", col(\"Installs\").cast(IntegerType()))\\\n",
    "        .withColumn(\"Price\", regexp_replace(col(\"Price\"), \"[$]\", \"\"))\\\n",
    "            .withColumn(\"Price\", col(\"Price\").cast(IntegerType()))"
   ]
  },
  {
   "cell_type": "code",
   "execution_count": 166,
   "id": "f7fa43aa",
   "metadata": {},
   "outputs": [
    {
     "name": "stdout",
     "output_type": "stream",
     "text": [
      "root\n",
      " |-- App: string (nullable = true)\n",
      " |-- Category: string (nullable = true)\n",
      " |-- Rating: double (nullable = true)\n",
      " |-- Reviews: integer (nullable = true)\n",
      " |-- Installs: integer (nullable = true)\n",
      " |-- Type: string (nullable = true)\n",
      " |-- Price: integer (nullable = true)\n",
      " |-- Genres: string (nullable = true)\n",
      "\n"
     ]
    }
   ],
   "source": [
    "df.printSchema()"
   ]
  },
  {
   "cell_type": "code",
   "execution_count": 167,
   "id": "a56883ed",
   "metadata": {},
   "outputs": [
    {
     "name": "stdout",
     "output_type": "stream",
     "text": [
      "+--------------------+--------------+------+-------+--------+----+-----+--------------------+\n",
      "|                 App|      Category|Rating|Reviews|Installs|Type|Price|              Genres|\n",
      "+--------------------+--------------+------+-------+--------+----+-----+--------------------+\n",
      "|Photo Editor & Ca...|ART_AND_DESIGN|   4.1|    159|   10000|Free|    0|        Art & Design|\n",
      "| Coloring book moana|ART_AND_DESIGN|   3.9|    967|  500000|Free|    0|Art & Design;Pret...|\n",
      "|U Launcher Lite â...|ART_AND_DESIGN|   4.7|  87510| 5000000|Free|    0|        Art & Design|\n",
      "|Sketch - Draw & P...|ART_AND_DESIGN|   4.5| 215644|50000000|Free|    0|        Art & Design|\n",
      "|Pixel Draw - Numb...|ART_AND_DESIGN|   4.3|    967|  100000|Free|    0|Art & Design;Crea...|\n",
      "|Paper flowers ins...|ART_AND_DESIGN|   4.4|    167|   50000|Free|    0|        Art & Design|\n",
      "|Smoke Effect Phot...|ART_AND_DESIGN|   3.8|    178|   50000|Free|    0|        Art & Design|\n",
      "|    Infinite Painter|ART_AND_DESIGN|   4.1|  36815| 1000000|Free|    0|        Art & Design|\n",
      "|Garden Coloring Book|ART_AND_DESIGN|   4.4|  13791| 1000000|Free|    0|        Art & Design|\n",
      "|Kids Paint Free -...|ART_AND_DESIGN|   4.7|    121|   10000|Free|    0|Art & Design;Crea...|\n",
      "|Text on Photo - F...|ART_AND_DESIGN|   4.4|  13880| 1000000|Free|    0|        Art & Design|\n",
      "|Name Art Photo Ed...|ART_AND_DESIGN|   4.4|   8788| 1000000|Free|    0|        Art & Design|\n",
      "|Tattoo Name On My...|ART_AND_DESIGN|   4.2|  44829|10000000|Free|    0|        Art & Design|\n",
      "|Mandala Coloring ...|ART_AND_DESIGN|   4.6|   4326|  100000|Free|    0|        Art & Design|\n",
      "|3D Color Pixel by...|ART_AND_DESIGN|   4.4|   1518|  100000|Free|    0|        Art & Design|\n",
      "|Learn To Draw Kaw...|ART_AND_DESIGN|   3.2|     55|    5000|Free|    0|        Art & Design|\n",
      "|Photo Designer - ...|ART_AND_DESIGN|   4.7|   3632|  500000|Free|    0|        Art & Design|\n",
      "|350 Diy Room Deco...|ART_AND_DESIGN|   4.5|     27|   10000|Free|    0|        Art & Design|\n",
      "|FlipaClip - Carto...|ART_AND_DESIGN|   4.3| 194216| 5000000|Free|    0|        Art & Design|\n",
      "|        ibis Paint X|ART_AND_DESIGN|   4.6| 224399|10000000|Free|    0|        Art & Design|\n",
      "+--------------------+--------------+------+-------+--------+----+-----+--------------------+\n",
      "only showing top 20 rows\n",
      "\n"
     ]
    }
   ],
   "source": [
    "df.show()"
   ]
  },
  {
   "cell_type": "markdown",
   "id": "16eec6a4",
   "metadata": {},
   "source": [
    "### Query the data"
   ]
  },
  {
   "cell_type": "markdown",
   "id": "6f1e0172",
   "metadata": {},
   "source": [
    "For performing SQL queries on the data we have to create a view."
   ]
  },
  {
   "cell_type": "code",
   "execution_count": 168,
   "id": "4830e5ac",
   "metadata": {},
   "outputs": [],
   "source": [
    "df.createOrReplaceTempView('apps')"
   ]
  },
  {
   "cell_type": "code",
   "execution_count": 169,
   "id": "47dceaec",
   "metadata": {},
   "outputs": [
    {
     "name": "stdout",
     "output_type": "stream",
     "text": [
      "+--------------------+--------------+------+-------+--------+----+-----+--------------------+\n",
      "|                 App|      Category|Rating|Reviews|Installs|Type|Price|              Genres|\n",
      "+--------------------+--------------+------+-------+--------+----+-----+--------------------+\n",
      "|Photo Editor & Ca...|ART_AND_DESIGN|   4.1|    159|   10000|Free|    0|        Art & Design|\n",
      "| Coloring book moana|ART_AND_DESIGN|   3.9|    967|  500000|Free|    0|Art & Design;Pret...|\n",
      "|U Launcher Lite â...|ART_AND_DESIGN|   4.7|  87510| 5000000|Free|    0|        Art & Design|\n",
      "|Sketch - Draw & P...|ART_AND_DESIGN|   4.5| 215644|50000000|Free|    0|        Art & Design|\n",
      "|Pixel Draw - Numb...|ART_AND_DESIGN|   4.3|    967|  100000|Free|    0|Art & Design;Crea...|\n",
      "|Paper flowers ins...|ART_AND_DESIGN|   4.4|    167|   50000|Free|    0|        Art & Design|\n",
      "|Smoke Effect Phot...|ART_AND_DESIGN|   3.8|    178|   50000|Free|    0|        Art & Design|\n",
      "|    Infinite Painter|ART_AND_DESIGN|   4.1|  36815| 1000000|Free|    0|        Art & Design|\n",
      "|Garden Coloring Book|ART_AND_DESIGN|   4.4|  13791| 1000000|Free|    0|        Art & Design|\n",
      "|Kids Paint Free -...|ART_AND_DESIGN|   4.7|    121|   10000|Free|    0|Art & Design;Crea...|\n",
      "|Text on Photo - F...|ART_AND_DESIGN|   4.4|  13880| 1000000|Free|    0|        Art & Design|\n",
      "|Name Art Photo Ed...|ART_AND_DESIGN|   4.4|   8788| 1000000|Free|    0|        Art & Design|\n",
      "|Tattoo Name On My...|ART_AND_DESIGN|   4.2|  44829|10000000|Free|    0|        Art & Design|\n",
      "|Mandala Coloring ...|ART_AND_DESIGN|   4.6|   4326|  100000|Free|    0|        Art & Design|\n",
      "|3D Color Pixel by...|ART_AND_DESIGN|   4.4|   1518|  100000|Free|    0|        Art & Design|\n",
      "|Learn To Draw Kaw...|ART_AND_DESIGN|   3.2|     55|    5000|Free|    0|        Art & Design|\n",
      "|Photo Designer - ...|ART_AND_DESIGN|   4.7|   3632|  500000|Free|    0|        Art & Design|\n",
      "|350 Diy Room Deco...|ART_AND_DESIGN|   4.5|     27|   10000|Free|    0|        Art & Design|\n",
      "|FlipaClip - Carto...|ART_AND_DESIGN|   4.3| 194216| 5000000|Free|    0|        Art & Design|\n",
      "|        ibis Paint X|ART_AND_DESIGN|   4.6| 224399|10000000|Free|    0|        Art & Design|\n",
      "+--------------------+--------------+------+-------+--------+----+-----+--------------------+\n",
      "only showing top 20 rows\n",
      "\n"
     ]
    }
   ],
   "source": [
    "query = \"select * from apps\"\n",
    "result = spark.sql(query)\n",
    "result.show()"
   ]
  },
  {
   "cell_type": "markdown",
   "id": "3ba9c64c",
   "metadata": {},
   "source": [
    "Equivalent on PySpark queries"
   ]
  },
  {
   "cell_type": "code",
   "execution_count": 170,
   "id": "2c9f7640",
   "metadata": {},
   "outputs": [
    {
     "name": "stdout",
     "output_type": "stream",
     "text": [
      "+--------------------+--------------+------+-------+--------+----+-----+--------------------+\n",
      "|                 App|      Category|Rating|Reviews|Installs|Type|Price|              Genres|\n",
      "+--------------------+--------------+------+-------+--------+----+-----+--------------------+\n",
      "|Photo Editor & Ca...|ART_AND_DESIGN|   4.1|    159|   10000|Free|    0|        Art & Design|\n",
      "| Coloring book moana|ART_AND_DESIGN|   3.9|    967|  500000|Free|    0|Art & Design;Pret...|\n",
      "|U Launcher Lite â...|ART_AND_DESIGN|   4.7|  87510| 5000000|Free|    0|        Art & Design|\n",
      "|Sketch - Draw & P...|ART_AND_DESIGN|   4.5| 215644|50000000|Free|    0|        Art & Design|\n",
      "|Pixel Draw - Numb...|ART_AND_DESIGN|   4.3|    967|  100000|Free|    0|Art & Design;Crea...|\n",
      "|Paper flowers ins...|ART_AND_DESIGN|   4.4|    167|   50000|Free|    0|        Art & Design|\n",
      "|Smoke Effect Phot...|ART_AND_DESIGN|   3.8|    178|   50000|Free|    0|        Art & Design|\n",
      "|    Infinite Painter|ART_AND_DESIGN|   4.1|  36815| 1000000|Free|    0|        Art & Design|\n",
      "|Garden Coloring Book|ART_AND_DESIGN|   4.4|  13791| 1000000|Free|    0|        Art & Design|\n",
      "|Kids Paint Free -...|ART_AND_DESIGN|   4.7|    121|   10000|Free|    0|Art & Design;Crea...|\n",
      "|Text on Photo - F...|ART_AND_DESIGN|   4.4|  13880| 1000000|Free|    0|        Art & Design|\n",
      "|Name Art Photo Ed...|ART_AND_DESIGN|   4.4|   8788| 1000000|Free|    0|        Art & Design|\n",
      "|Tattoo Name On My...|ART_AND_DESIGN|   4.2|  44829|10000000|Free|    0|        Art & Design|\n",
      "|Mandala Coloring ...|ART_AND_DESIGN|   4.6|   4326|  100000|Free|    0|        Art & Design|\n",
      "|3D Color Pixel by...|ART_AND_DESIGN|   4.4|   1518|  100000|Free|    0|        Art & Design|\n",
      "|Learn To Draw Kaw...|ART_AND_DESIGN|   3.2|     55|    5000|Free|    0|        Art & Design|\n",
      "|Photo Designer - ...|ART_AND_DESIGN|   4.7|   3632|  500000|Free|    0|        Art & Design|\n",
      "|350 Diy Room Deco...|ART_AND_DESIGN|   4.5|     27|   10000|Free|    0|        Art & Design|\n",
      "|FlipaClip - Carto...|ART_AND_DESIGN|   4.3| 194216| 5000000|Free|    0|        Art & Design|\n",
      "|        ibis Paint X|ART_AND_DESIGN|   4.6| 224399|10000000|Free|    0|        Art & Design|\n",
      "+--------------------+--------------+------+-------+--------+----+-----+--------------------+\n",
      "only showing top 20 rows\n",
      "\n"
     ]
    }
   ],
   "source": [
    "df.show()"
   ]
  },
  {
   "cell_type": "markdown",
   "id": "62b3af94",
   "metadata": {},
   "source": [
    "### Top 10 reviews given to the apps"
   ]
  },
  {
   "cell_type": "markdown",
   "id": "6c8cad87",
   "metadata": {},
   "source": [
    "We have to sum all the reviews for each app (grouping by each app) and order them from the largest to the smalest sum."
   ]
  },
  {
   "cell_type": "code",
   "execution_count": 105,
   "id": "60d83620",
   "metadata": {},
   "outputs": [
    {
     "name": "stdout",
     "output_type": "stream",
     "text": [
      "+--------------------+-----------+\n",
      "|                 App|Sum_Reviews|\n",
      "+--------------------+-----------+\n",
      "|           Instagram|  266241989|\n",
      "|  WhatsApp Messenger|  207348304|\n",
      "|      Clash of Clans|  179558781|\n",
      "|Messenger â€“ Tex...|  169932272|\n",
      "|      Subway Surfers|  166331958|\n",
      "|    Candy Crush Saga|  156993136|\n",
      "|            Facebook|  156286514|\n",
      "|         8 Ball Pool|   99386198|\n",
      "|        Clash Royale|   92530298|\n",
      "|            Snapchat|   68045010|\n",
      "+--------------------+-----------+\n",
      "only showing top 10 rows\n",
      "\n"
     ]
    }
   ],
   "source": [
    "query = \"SELECT App, sum(Reviews) AS Sum_Reviews FROM apps GROUP BY App ORDER BY Sum_Reviews DESC\"\n",
    "result = spark.sql(query)\n",
    "result.show(10)"
   ]
  },
  {
   "cell_type": "markdown",
   "id": "362e3117",
   "metadata": {},
   "source": [
    "Equivalent on PySpark queries"
   ]
  },
  {
   "cell_type": "code",
   "execution_count": 176,
   "id": "ef1e26f7",
   "metadata": {},
   "outputs": [
    {
     "name": "stdout",
     "output_type": "stream",
     "text": [
      "+--------------------+------------+\n",
      "|                 App|sum(Reviews)|\n",
      "+--------------------+------------+\n",
      "|           Instagram|   266241989|\n",
      "|  WhatsApp Messenger|   207348304|\n",
      "|      Clash of Clans|   179558781|\n",
      "|Messenger â€“ Tex...|   169932272|\n",
      "|      Subway Surfers|   166331958|\n",
      "|    Candy Crush Saga|   156993136|\n",
      "|            Facebook|   156286514|\n",
      "|         8 Ball Pool|    99386198|\n",
      "|        Clash Royale|    92530298|\n",
      "|            Snapchat|    68045010|\n",
      "+--------------------+------------+\n",
      "only showing top 10 rows\n",
      "\n"
     ]
    }
   ],
   "source": [
    "df.groupBy('App').sum('Reviews').orderBy(sum('Reviews'), ascending = False).show(10)"
   ]
  },
  {
   "cell_type": "markdown",
   "id": "4cd45b80",
   "metadata": {},
   "source": [
    "### Top 10 instaled apps"
   ]
  },
  {
   "cell_type": "markdown",
   "id": "5f70f96a",
   "metadata": {},
   "source": [
    "We have to sum all the instalations (Total installs) for each app (grouping by each app) and order them from the largest to the smalest number."
   ]
  },
  {
   "cell_type": "code",
   "execution_count": 184,
   "id": "df2b4ea7",
   "metadata": {},
   "outputs": [
    {
     "name": "stdout",
     "output_type": "stream",
     "text": [
      "+--------------------+----+--------------+\n",
      "|                 App|Type|Total_Installs|\n",
      "+--------------------+----+--------------+\n",
      "|      Subway Surfers|Free|    6000000000|\n",
      "|        Google Drive|Free|    4000000000|\n",
      "|         Google News|Free|    4000000000|\n",
      "|       Google Photos|Free|    4000000000|\n",
      "|            Hangouts|Free|    4000000000|\n",
      "|           Instagram|Free|    4000000000|\n",
      "|    Candy Crush Saga|Free|    3500000000|\n",
      "|               Gmail|Free|    3000000000|\n",
      "|Google Chrome: Fa...|Free|    3000000000|\n",
      "|Maps - Navigate &...|Free|    3000000000|\n",
      "+--------------------+----+--------------+\n",
      "only showing top 10 rows\n",
      "\n"
     ]
    }
   ],
   "source": [
    "query = \"SELECT App, Type, sum(Installs) AS Total_Installs FROM apps GROUP BY App, Type ORDER BY Total_Installs DESC, App ASC\"\n",
    "result = spark.sql(query)\n",
    "result.show(10)"
   ]
  },
  {
   "cell_type": "markdown",
   "id": "632fe3d0",
   "metadata": {},
   "source": [
    "Equivalent on PySpark queries"
   ]
  },
  {
   "cell_type": "code",
   "execution_count": 191,
   "id": "84a6e18f",
   "metadata": {},
   "outputs": [
    {
     "name": "stdout",
     "output_type": "stream",
     "text": [
      "+--------------------+-------------+\n",
      "|                 App|sum(Installs)|\n",
      "+--------------------+-------------+\n",
      "|      Subway Surfers|   6000000000|\n",
      "|        Google Drive|   4000000000|\n",
      "|         Google News|   4000000000|\n",
      "|       Google Photos|   4000000000|\n",
      "|            Hangouts|   4000000000|\n",
      "|           Instagram|   4000000000|\n",
      "|    Candy Crush Saga|   3500000000|\n",
      "|               Gmail|   3000000000|\n",
      "|Google Chrome: Fa...|   3000000000|\n",
      "|Maps - Navigate &...|   3000000000|\n",
      "+--------------------+-------------+\n",
      "only showing top 10 rows\n",
      "\n"
     ]
    }
   ],
   "source": [
    "df.groupBy('App').sum('Installs').orderBy([desc('sum(Installs)'), 'App']).show(10)"
   ]
  },
  {
   "cell_type": "markdown",
   "id": "8e0d5375",
   "metadata": {},
   "source": [
    "### Category distribution of the instaled apps"
   ]
  },
  {
   "cell_type": "markdown",
   "id": "f8a87c0b",
   "metadata": {},
   "source": [
    "Determine the total number of installations for each category of application."
   ]
  },
  {
   "cell_type": "code",
   "execution_count": 107,
   "id": "d1486076",
   "metadata": {},
   "outputs": [
    {
     "name": "stdout",
     "output_type": "stream",
     "text": [
      "+------------------+--------------+\n",
      "|          Category|Total_Installs|\n",
      "+------------------+--------------+\n",
      "|              GAME|   35086024415|\n",
      "|     COMMUNICATION|   32647276251|\n",
      "|      PRODUCTIVITY|   14176091369|\n",
      "|            SOCIAL|   14069867902|\n",
      "|             TOOLS|   11452771915|\n",
      "|            FAMILY|   10258263505|\n",
      "|       PHOTOGRAPHY|   10088247655|\n",
      "|NEWS_AND_MAGAZINES|    7496317760|\n",
      "|  TRAVEL_AND_LOCAL|    6868887146|\n",
      "|     VIDEO_PLAYERS|    6222002720|\n",
      "+------------------+--------------+\n",
      "only showing top 10 rows\n",
      "\n"
     ]
    }
   ],
   "source": [
    "query = \"SELECT Category, sum(Installs) AS Total_Installs FROM apps GROUP BY Category ORDER BY Total_Installs DESC\"\n",
    "result = spark.sql(query)\n",
    "result.show(10)"
   ]
  },
  {
   "cell_type": "markdown",
   "id": "fec72c3c",
   "metadata": {},
   "source": [
    "Equivalent on PySpark queries"
   ]
  },
  {
   "cell_type": "code",
   "execution_count": 195,
   "id": "90c5913c",
   "metadata": {},
   "outputs": [
    {
     "name": "stdout",
     "output_type": "stream",
     "text": [
      "+------------------+-------------+\n",
      "|          Category|sum(Installs)|\n",
      "+------------------+-------------+\n",
      "|              GAME|  35086024415|\n",
      "|     COMMUNICATION|  32647276251|\n",
      "|      PRODUCTIVITY|  14176091369|\n",
      "|            SOCIAL|  14069867902|\n",
      "|             TOOLS|  11452771915|\n",
      "|            FAMILY|  10258263505|\n",
      "|       PHOTOGRAPHY|  10088247655|\n",
      "|NEWS_AND_MAGAZINES|   7496317760|\n",
      "|  TRAVEL_AND_LOCAL|   6868887146|\n",
      "|     VIDEO_PLAYERS|   6222002720|\n",
      "+------------------+-------------+\n",
      "only showing top 10 rows\n",
      "\n"
     ]
    }
   ],
   "source": [
    "df.groupBy('Category').sum('Installs').orderBy(desc(sum('Installs'))).show(10)"
   ]
  },
  {
   "cell_type": "markdown",
   "id": "9d9180dc",
   "metadata": {},
   "source": [
    "### Top paid apps"
   ]
  },
  {
   "cell_type": "code",
   "execution_count": 108,
   "id": "229eed87",
   "metadata": {},
   "outputs": [
    {
     "name": "stdout",
     "output_type": "stream",
     "text": [
      "+--------------------+-----------+\n",
      "|                 App|Total_Price|\n",
      "+--------------------+-----------+\n",
      "|I'm Rich - Trump ...|        400|\n",
      "|most expensive ap...|        399|\n",
      "|           I am Rich|        399|\n",
      "|  I AM RICH PRO PLUS|        399|\n",
      "|   I Am Rich Premium|        399|\n",
      "|  I am rich(premium)|        399|\n",
      "|      I am Rich Plus|        399|\n",
      "|       I Am Rich Pro|        399|\n",
      "|          I am Rich!|        399|\n",
      "|I'm Rich/Eu sou R...|        399|\n",
      "+--------------------+-----------+\n",
      "only showing top 10 rows\n",
      "\n"
     ]
    }
   ],
   "source": [
    "query = \"SELECT App, sum(Price) AS Total_Price from apps WHERE Type == 'Paid' GROUP BY App ORDER BY Total_Price DESC\"\n",
    "result = spark.sql(query)\n",
    "result.show(10)"
   ]
  },
  {
   "cell_type": "markdown",
   "id": "9ede6779",
   "metadata": {},
   "source": [
    "Equivalent on PySpark queries"
   ]
  },
  {
   "cell_type": "code",
   "execution_count": 196,
   "id": "a5dc6e78",
   "metadata": {},
   "outputs": [
    {
     "name": "stdout",
     "output_type": "stream",
     "text": [
      "+--------------------+----------+\n",
      "|                 App|sum(Price)|\n",
      "+--------------------+----------+\n",
      "|I'm Rich - Trump ...|       400|\n",
      "|most expensive ap...|       399|\n",
      "|           I am Rich|       399|\n",
      "|  I AM RICH PRO PLUS|       399|\n",
      "|   I Am Rich Premium|       399|\n",
      "|  I am rich(premium)|       399|\n",
      "|      I am Rich Plus|       399|\n",
      "|       I Am Rich Pro|       399|\n",
      "|          I am Rich!|       399|\n",
      "|I'm Rich/Eu sou R...|       399|\n",
      "+--------------------+----------+\n",
      "only showing top 10 rows\n",
      "\n"
     ]
    }
   ],
   "source": [
    "# Filtering the dataset for the columns where Type is equal to Paid\n",
    "df_filtered = df.where(col('Type') == 'Paid')\n",
    "\n",
    "# Grouping by app and calculate the sum of Price\n",
    "df_filtered.groupBy('App').sum('Price').orderBy(sum('Price'), ascending = False).show(10)"
   ]
  },
  {
   "cell_type": "markdown",
   "id": "794ec5f0",
   "metadata": {},
   "source": [
    "### Top paid rating apps"
   ]
  },
  {
   "cell_type": "code",
   "execution_count": 155,
   "id": "1d629541",
   "metadata": {},
   "outputs": [
    {
     "name": "stdout",
     "output_type": "stream",
     "text": [
      "+--------------------+-------+\n",
      "|                 App|Ratings|\n",
      "+--------------------+-------+\n",
      "|   AJ Blue Icon Pack|    5.0|\n",
      "|        ADS-B Driver|    5.0|\n",
      "|             Mu.F.O.|    5.0|\n",
      "|AJ Gray Dark Icon...|    5.0|\n",
      "|30WPM Amateur ham...|    5.0|\n",
      "|AP Art History Fl...|    5.0|\n",
      "|     P-Home for KLWP|    5.0|\n",
      "|Hey AJ! It's Bedt...|    5.0|\n",
      "|        Morse Player|    5.0|\n",
      "|            Ra Ga Ba|    5.0|\n",
      "+--------------------+-------+\n",
      "only showing top 10 rows\n",
      "\n"
     ]
    }
   ],
   "source": [
    "# Has we have NaN values in the column Rating, the RLIKE function was applied in order to filter the values througth the regular expression '^[0-9]+\\\\.?[0-9]*$', to check that the Rating value contains only digits and optionally a decimal point followed by more digits. \n",
    "query = \"SELECT App, AVG(Rating) AS Ratings FROM apps WHERE Type = 'Paid' AND Rating RLIKE '^[0-9]+\\\\.?[0-9]*$' GROUP BY App ORDER BY Ratings DESC\"\n",
    "\n",
    "result = spark.sql(query)\n",
    "result.show(10)"
   ]
  },
  {
   "cell_type": "code",
   "execution_count": 136,
   "id": "f2956c0c",
   "metadata": {},
   "outputs": [
    {
     "name": "stdout",
     "output_type": "stream",
     "text": [
      "+--------------------+-----------+\n",
      "|                 App|avg(Rating)|\n",
      "+--------------------+-----------+\n",
      "|   AJ Blue Icon Pack|        5.0|\n",
      "|        ADS-B Driver|        5.0|\n",
      "|             Mu.F.O.|        5.0|\n",
      "|AJ Gray Dark Icon...|        5.0|\n",
      "|30WPM Amateur ham...|        5.0|\n",
      "|AP Art History Fl...|        5.0|\n",
      "|     P-Home for KLWP|        5.0|\n",
      "|Hey AJ! It's Bedt...|        5.0|\n",
      "|        Morse Player|        5.0|\n",
      "|            Ra Ga Ba|        5.0|\n",
      "+--------------------+-----------+\n",
      "only showing top 10 rows\n",
      "\n"
     ]
    }
   ],
   "source": [
    "# Filtering the columns where Rating is not NaN and Type is equal to Paid\n",
    "df_filtered = df.where(~isnan(col('Rating')) & (col('Type') == 'Paid'))\n",
    "\n",
    "# Group by app and calculate the mean of Rating\n",
    "df_filtered.groupBy('App').mean('Rating').orderBy('avg(Rating)', ascending=False).show(10)"
   ]
  }
 ],
 "metadata": {
  "kernelspec": {
   "display_name": "Python 3 (ipykernel)",
   "language": "python",
   "name": "python3"
  },
  "language_info": {
   "codemirror_mode": {
    "name": "ipython",
    "version": 3
   },
   "file_extension": ".py",
   "mimetype": "text/x-python",
   "name": "python",
   "nbconvert_exporter": "python",
   "pygments_lexer": "ipython3",
   "version": "3.9.7"
  }
 },
 "nbformat": 4,
 "nbformat_minor": 5
}
