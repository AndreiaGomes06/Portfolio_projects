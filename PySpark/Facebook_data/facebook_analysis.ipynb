{
 "cells": [
  {
   "cell_type": "markdown",
   "id": "4a33d9ec",
   "metadata": {},
   "source": [
    "# Facebook Data Analysis"
   ]
  },
  {
   "cell_type": "markdown",
   "id": "21bdee7b",
   "metadata": {},
   "source": [
    "### Imports"
   ]
  },
  {
   "cell_type": "code",
   "execution_count": 1,
   "id": "9ae1bfc6",
   "metadata": {},
   "outputs": [],
   "source": [
    "import pyspark\n",
    "from pyspark.sql import SparkSession\n",
    "from pyspark.sql.types import StructType, StringType, IntegerType, DoubleType\n",
    "from pyspark.sql.functions import regexp_replace, col\n",
    "from pyspark.sql.functions import *"
   ]
  },
  {
   "cell_type": "markdown",
   "id": "fc9077a4",
   "metadata": {},
   "source": [
    "### Create a Spark session"
   ]
  },
  {
   "cell_type": "code",
   "execution_count": 2,
   "id": "67393561",
   "metadata": {},
   "outputs": [],
   "source": [
    "spark = SparkSession.builder.appName('Facebook_analysis').getOrCreate()"
   ]
  },
  {
   "cell_type": "markdown",
   "id": "be4eb3ac",
   "metadata": {},
   "source": [
    "### Upload the dataset"
   ]
  },
  {
   "cell_type": "code",
   "execution_count": 3,
   "id": "3af0208c",
   "metadata": {},
   "outputs": [
    {
     "name": "stdout",
     "output_type": "stream",
     "text": [
      "+-------+---+-------+--------+---------+------+------+------------+---------------------+-----+--------------+------------+---------------------+---------+------------------+\n",
      "| userid|age|dob_day|dob_year|dob_month|gender|tenure|friend_count|friendships_initiated|likes|likes_received|mobile_likes|mobile_likes_received|www_likes|www_likes_received|\n",
      "+-------+---+-------+--------+---------+------+------+------------+---------------------+-----+--------------+------------+---------------------+---------+------------------+\n",
      "|2094382| 14|     19|    1999|       11|  male|   266|           0|                    0|    0|             0|           0|                    0|        0|                 0|\n",
      "|1192601| 14|      2|    1999|       11|female|     6|           0|                    0|    0|             0|           0|                    0|        0|                 0|\n",
      "|2083884| 14|     16|    1999|       11|  male|    13|           0|                    0|    0|             0|           0|                    0|        0|                 0|\n",
      "|1203168| 14|     25|    1999|       12|female|    93|           0|                    0|    0|             0|           0|                    0|        0|                 0|\n",
      "|1733186| 14|      4|    1999|       12|  male|    82|           0|                    0|    0|             0|           0|                    0|        0|                 0|\n",
      "+-------+---+-------+--------+---------+------+------+------------+---------------------+-----+--------------+------------+---------------------+---------+------------------+\n",
      "only showing top 5 rows\n",
      "\n"
     ]
    }
   ],
   "source": [
    "df = spark.read.csv('pseudo_facebook.csv', header = True, escape = '\"', inferSchema = True)\n",
    "\n",
    "# Show the first 5 rows\n",
    "df.show(5)"
   ]
  },
  {
   "cell_type": "code",
   "execution_count": 4,
   "id": "d09221c9",
   "metadata": {},
   "outputs": [
    {
     "data": {
      "text/plain": [
       "['userid',\n",
       " 'age',\n",
       " 'dob_day',\n",
       " 'dob_year',\n",
       " 'dob_month',\n",
       " 'gender',\n",
       " 'tenure',\n",
       " 'friend_count',\n",
       " 'friendships_initiated',\n",
       " 'likes',\n",
       " 'likes_received',\n",
       " 'mobile_likes',\n",
       " 'mobile_likes_received',\n",
       " 'www_likes',\n",
       " 'www_likes_received']"
      ]
     },
     "execution_count": 4,
     "metadata": {},
     "output_type": "execute_result"
    }
   ],
   "source": [
    "# Columns of the dataset\n",
    "df.columns"
   ]
  },
  {
   "cell_type": "code",
   "execution_count": 5,
   "id": "8e8e85bf",
   "metadata": {},
   "outputs": [
    {
     "data": {
      "text/plain": [
       "[('userid', 'int'),\n",
       " ('age', 'int'),\n",
       " ('dob_day', 'int'),\n",
       " ('dob_year', 'int'),\n",
       " ('dob_month', 'int'),\n",
       " ('gender', 'string'),\n",
       " ('tenure', 'string'),\n",
       " ('friend_count', 'int'),\n",
       " ('friendships_initiated', 'int'),\n",
       " ('likes', 'int'),\n",
       " ('likes_received', 'int'),\n",
       " ('mobile_likes', 'int'),\n",
       " ('mobile_likes_received', 'int'),\n",
       " ('www_likes', 'int'),\n",
       " ('www_likes_received', 'int')]"
      ]
     },
     "execution_count": 5,
     "metadata": {},
     "output_type": "execute_result"
    }
   ],
   "source": [
    "# Data types\n",
    "df.dtypes"
   ]
  },
  {
   "cell_type": "code",
   "execution_count": 6,
   "id": "5ba67058",
   "metadata": {},
   "outputs": [
    {
     "name": "stdout",
     "output_type": "stream",
     "text": [
      "root\n",
      " |-- userid: integer (nullable = true)\n",
      " |-- age: integer (nullable = true)\n",
      " |-- dob_day: integer (nullable = true)\n",
      " |-- dob_year: integer (nullable = true)\n",
      " |-- dob_month: integer (nullable = true)\n",
      " |-- gender: string (nullable = true)\n",
      " |-- tenure: string (nullable = true)\n",
      " |-- friend_count: integer (nullable = true)\n",
      " |-- friendships_initiated: integer (nullable = true)\n",
      " |-- likes: integer (nullable = true)\n",
      " |-- likes_received: integer (nullable = true)\n",
      " |-- mobile_likes: integer (nullable = true)\n",
      " |-- mobile_likes_received: integer (nullable = true)\n",
      " |-- www_likes: integer (nullable = true)\n",
      " |-- www_likes_received: integer (nullable = true)\n",
      "\n"
     ]
    }
   ],
   "source": [
    "# Spark schema\n",
    "df.printSchema()"
   ]
  },
  {
   "cell_type": "markdown",
   "id": "f7ec8417",
   "metadata": {},
   "source": [
    "### Check existence of null values"
   ]
  },
  {
   "cell_type": "code",
   "execution_count": 7,
   "id": "f96f1f11",
   "metadata": {},
   "outputs": [
    {
     "name": "stdout",
     "output_type": "stream",
     "text": [
      "+------+---+-------+--------+---------+------+------+------------+---------------------+-----+--------------+------------+---------------------+---------+------------------+\n",
      "|userid|age|dob_day|dob_year|dob_month|gender|tenure|friend_count|friendships_initiated|likes|likes_received|mobile_likes|mobile_likes_received|www_likes|www_likes_received|\n",
      "+------+---+-------+--------+---------+------+------+------------+---------------------+-----+--------------+------------+---------------------+---------+------------------+\n",
      "|     0|  0|      0|       0|        0|     0|     0|           0|                    0|    0|             0|           0|                    0|        0|                 0|\n",
      "+------+---+-------+--------+---------+------+------+------------+---------------------+-----+--------------+------------+---------------------+---------+------------------+\n",
      "\n"
     ]
    }
   ],
   "source": [
    "null_counts = df.select([count(when(isnan(c) | col(c).isNull(), c)).alias(c) for c in df.columns])\n",
    "\n",
    "null_counts.show()"
   ]
  },
  {
   "cell_type": "markdown",
   "id": "7813fef7",
   "metadata": {},
   "source": [
    "### Create a Temporary SQL view"
   ]
  },
  {
   "cell_type": "code",
   "execution_count": 8,
   "id": "e53be254",
   "metadata": {},
   "outputs": [],
   "source": [
    "# Creates a Virtual SQL environment\n",
    "df.createOrReplaceTempView('fb')"
   ]
  },
  {
   "cell_type": "code",
   "execution_count": 9,
   "id": "c1395aa8",
   "metadata": {},
   "outputs": [
    {
     "name": "stdout",
     "output_type": "stream",
     "text": [
      "+-------+---+-------+--------+---------+------+------+------------+---------------------+-----+--------------+------------+---------------------+---------+------------------+\n",
      "| userid|age|dob_day|dob_year|dob_month|gender|tenure|friend_count|friendships_initiated|likes|likes_received|mobile_likes|mobile_likes_received|www_likes|www_likes_received|\n",
      "+-------+---+-------+--------+---------+------+------+------------+---------------------+-----+--------------+------------+---------------------+---------+------------------+\n",
      "|2094382| 14|     19|    1999|       11|  male|   266|           0|                    0|    0|             0|           0|                    0|        0|                 0|\n",
      "|1192601| 14|      2|    1999|       11|female|     6|           0|                    0|    0|             0|           0|                    0|        0|                 0|\n",
      "|2083884| 14|     16|    1999|       11|  male|    13|           0|                    0|    0|             0|           0|                    0|        0|                 0|\n",
      "|1203168| 14|     25|    1999|       12|female|    93|           0|                    0|    0|             0|           0|                    0|        0|                 0|\n",
      "|1733186| 14|      4|    1999|       12|  male|    82|           0|                    0|    0|             0|           0|                    0|        0|                 0|\n",
      "+-------+---+-------+--------+---------+------+------+------------+---------------------+-----+--------------+------------+---------------------+---------+------------------+\n",
      "only showing top 5 rows\n",
      "\n"
     ]
    }
   ],
   "source": [
    "query = \"SELECT * FROM fb\"\n",
    "result = spark.sql(query)\n",
    "result.show(5)"
   ]
  },
  {
   "cell_type": "markdown",
   "id": "287beb50",
   "metadata": {},
   "source": [
    "#### Total number of records"
   ]
  },
  {
   "cell_type": "code",
   "execution_count": 10,
   "id": "06190446",
   "metadata": {},
   "outputs": [
    {
     "name": "stdout",
     "output_type": "stream",
     "text": [
      "+-------------+\n",
      "|Total_records|\n",
      "+-------------+\n",
      "|        99003|\n",
      "+-------------+\n",
      "\n"
     ]
    }
   ],
   "source": [
    "query = \"SELECT count(*) AS Total_records FROM fb\"\n",
    "result = spark.sql(query).show()"
   ]
  },
  {
   "cell_type": "markdown",
   "id": "0b9eb320",
   "metadata": {},
   "source": [
    "#### Create a python variable from a table value"
   ]
  },
  {
   "cell_type": "markdown",
   "id": "44e8edb2",
   "metadata": {},
   "source": [
    "If we want to create a python variable we have to treat it as 2 dimensional array."
   ]
  },
  {
   "cell_type": "code",
   "execution_count": 34,
   "id": "f84321f0",
   "metadata": {},
   "outputs": [
    {
     "name": "stdout",
     "output_type": "stream",
     "text": [
      "Original number of records:  99003\n",
      "Number of records + 20:  99023\n"
     ]
    }
   ],
   "source": [
    "# We are taking the value from de 1º column and 1º line [0][0]\n",
    "x = spark.sql(\"SELECT count(*) AS Total_records FROM fb\").collect()[0][0]\n",
    "print('Original number of records: ', x) \n",
    "\n",
    "# Add 20 to initial number of records in the dataset\n",
    "print('Number of records + 20: ', x + 20)"
   ]
  },
  {
   "cell_type": "markdown",
   "id": "559b238a",
   "metadata": {},
   "source": [
    "### Diferences based on the gender"
   ]
  },
  {
   "cell_type": "markdown",
   "id": "b92c3d45",
   "metadata": {},
   "source": [
    "#### Number of males, females and other (NA)"
   ]
  },
  {
   "cell_type": "code",
   "execution_count": 28,
   "id": "91cbcf19",
   "metadata": {},
   "outputs": [
    {
     "name": "stdout",
     "output_type": "stream",
     "text": [
      "+------+------------+\n",
      "|gender|total_number|\n",
      "+------+------------+\n",
      "|  male|       58574|\n",
      "|female|       40254|\n",
      "|    NA|         175|\n",
      "+------+------------+\n",
      "\n"
     ]
    }
   ],
   "source": [
    "query = \"SELECT gender, count(*) AS total_number FROM fb GROUP BY gender ORDER BY total_number DESC\"\n",
    "result = spark.sql(query).show()"
   ]
  },
  {
   "cell_type": "markdown",
   "id": "9284eb26",
   "metadata": {},
   "source": [
    "585774 of the users are men, 40254 are women and 175 identify themselves as other."
   ]
  },
  {
   "cell_type": "markdown",
   "id": "e49602c7",
   "metadata": {},
   "source": [
    "#### Average age of males, females and other (NA)"
   ]
  },
  {
   "cell_type": "code",
   "execution_count": 13,
   "id": "21144633",
   "metadata": {},
   "outputs": [
    {
     "name": "stdout",
     "output_type": "stream",
     "text": [
      "+------+------------------+\n",
      "|gender|       Average_age|\n",
      "+------+------------------+\n",
      "|    NA| 74.77714285714286|\n",
      "|female|39.459904605753465|\n",
      "|  male| 35.67024618431386|\n",
      "+------+------------------+\n",
      "\n"
     ]
    }
   ],
   "source": [
    "query = \"SELECT gender, AVG(age) AS Average_age FROM fb GROUP BY gender\"\n",
    "result = spark.sql(query).show()"
   ]
  },
  {
   "cell_type": "markdown",
   "id": "51e7d890",
   "metadata": {},
   "source": [
    "The average age for women is about 39 years old, for men is about 36 years old and for other is about 75 years old."
   ]
  },
  {
   "cell_type": "markdown",
   "id": "4e714b51",
   "metadata": {},
   "source": [
    "#### Diference between likes recived by male, female and other"
   ]
  },
  {
   "cell_type": "code",
   "execution_count": 15,
   "id": "107217e9",
   "metadata": {},
   "outputs": [
    {
     "name": "stdout",
     "output_type": "stream",
     "text": [
      "+------+--------------+\n",
      "|gender|likes_received|\n",
      "+------+--------------+\n",
      "|female|      10121282|\n",
      "|  male|       3977851|\n",
      "|    NA|         27542|\n",
      "+------+--------------+\n",
      "\n"
     ]
    }
   ],
   "source": [
    "query = \"SELECT gender, sum(likes_received) AS likes_received FROM fb GROUP BY gender ORDER BY likes_received DESC\"\n",
    "result = spark.sql(query).show()"
   ]
  },
  {
   "cell_type": "markdown",
   "id": "e2201729",
   "metadata": {},
   "source": [
    "Women recive way more likes than man and other."
   ]
  },
  {
   "cell_type": "markdown",
   "id": "d6aa05bc",
   "metadata": {},
   "source": [
    "#### Diference between likes given by male, female and other"
   ]
  },
  {
   "cell_type": "code",
   "execution_count": 30,
   "id": "fa3fe93d",
   "metadata": {},
   "outputs": [
    {
     "name": "stdout",
     "output_type": "stream",
     "text": [
      "+------+-----------+\n",
      "|gender|likes_given|\n",
      "+------+-----------+\n",
      "|female|   10468106|\n",
      "|  male|    4959923|\n",
      "|    NA|      24239|\n",
      "+------+-----------+\n",
      "\n"
     ]
    }
   ],
   "source": [
    "query = \"SELECT gender, sum(likes) AS likes_given FROM fb GROUP BY gender ORDER BY likes_given DESC\"\n",
    "result = spark.sql(query).show()"
   ]
  },
  {
   "cell_type": "markdown",
   "id": "d4de3516",
   "metadata": {},
   "source": [
    "Women also give more likes than man and other."
   ]
  },
  {
   "cell_type": "markdown",
   "id": "6adc6a58",
   "metadata": {},
   "source": [
    "#### Average friends depending on the gender"
   ]
  },
  {
   "cell_type": "code",
   "execution_count": 21,
   "id": "ff637946",
   "metadata": {},
   "outputs": [
    {
     "name": "stdout",
     "output_type": "stream",
     "text": [
      "+------+------------------+\n",
      "|gender|       avg_friends|\n",
      "+------+------------------+\n",
      "|female|241.96994087544095|\n",
      "|    NA|184.41142857142856|\n",
      "|  male|165.03545941885477|\n",
      "+------+------------------+\n",
      "\n"
     ]
    }
   ],
   "source": [
    "query = \"SELECT gender, AVG(friend_count) AS avg_friends FROM fb GROUP BY gender ORDER BY avg_friends DESC\"\n",
    "result = spark.sql(query).show()"
   ]
  },
  {
   "cell_type": "markdown",
   "id": "cd302bc8",
   "metadata": {},
   "source": [
    "On average women have more friends on Facebook, followed by other, and men."
   ]
  },
  {
   "cell_type": "markdown",
   "id": "90207b09",
   "metadata": {},
   "source": [
    "#### How initiate more friendships"
   ]
  },
  {
   "cell_type": "code",
   "execution_count": 35,
   "id": "e082a1c0",
   "metadata": {},
   "outputs": [
    {
     "name": "stdout",
     "output_type": "stream",
     "text": [
      "+------+--------------------+\n",
      "|gender|avg_friendships_init|\n",
      "+------+--------------------+\n",
      "|female|  113.89909077358772|\n",
      "|  male|  103.06659951514324|\n",
      "|    NA|   92.57142857142857|\n",
      "+------+--------------------+\n",
      "\n"
     ]
    }
   ],
   "source": [
    "query = \"SELECT gender, AVG(friendships_initiated) AS avg_friendships_init FROM fb GROUP BY gender ORDER BY avg_friendships_init DESC\"\n",
    "result = spark.sql(query).show()"
   ]
  },
  {
   "cell_type": "markdown",
   "id": "608f5000",
   "metadata": {},
   "source": [
    "On average women initiate more friendships, followed by men, and other."
   ]
  },
  {
   "cell_type": "markdown",
   "id": "c7fb5b51",
   "metadata": {},
   "source": [
    "### Age demographics  "
   ]
  },
  {
   "cell_type": "markdown",
   "id": "a200935a",
   "metadata": {},
   "source": [
    "#### Average age of a Facebook user"
   ]
  },
  {
   "cell_type": "code",
   "execution_count": 12,
   "id": "1498ef8c",
   "metadata": {},
   "outputs": [
    {
     "name": "stdout",
     "output_type": "stream",
     "text": [
      "+-----------------+\n",
      "|      Average_age|\n",
      "+-----------------+\n",
      "|37.28022383160106|\n",
      "+-----------------+\n",
      "\n"
     ]
    }
   ],
   "source": [
    "query = \"SELECT AVG(age) AS Average_age FROM fb\"\n",
    "result = spark.sql(query).show()"
   ]
  },
  {
   "cell_type": "markdown",
   "id": "b3e5a0bf",
   "metadata": {},
   "source": [
    "The average age of a Facebook user is about 37 years old."
   ]
  },
  {
   "cell_type": "markdown",
   "id": "48ee180c",
   "metadata": {},
   "source": [
    "#### Whats the average of friends that people with ages between 13 and 25 have."
   ]
  },
  {
   "cell_type": "code",
   "execution_count": 16,
   "id": "2f25b082",
   "metadata": {},
   "outputs": [
    {
     "name": "stdout",
     "output_type": "stream",
     "text": [
      "+-----------------+\n",
      "|      avg_friends|\n",
      "+-----------------+\n",
      "|268.5517990880525|\n",
      "+-----------------+\n",
      "\n"
     ]
    }
   ],
   "source": [
    "query = \"SELECT AVG(friend_count) AS avg_friends FROM fb WHERE age >= 13 AND age <= 25 \"\n",
    "result = spark.sql(query).show()"
   ]
  },
  {
   "cell_type": "markdown",
   "id": "0719e5e1",
   "metadata": {},
   "source": [
    "#### Whats the average of friends that people with ages between 30 and 50 have."
   ]
  },
  {
   "cell_type": "code",
   "execution_count": 17,
   "id": "98bc6acd",
   "metadata": {},
   "outputs": [
    {
     "name": "stdout",
     "output_type": "stream",
     "text": [
      "+------------------+\n",
      "|       avg_friends|\n",
      "+------------------+\n",
      "|106.38998921251348|\n",
      "+------------------+\n",
      "\n"
     ]
    }
   ],
   "source": [
    "query = \"SELECT AVG(friend_count) AS avg_friends FROM fb WHERE age >= 30 AND age <= 50 \"\n",
    "result = spark.sql(query).show()"
   ]
  },
  {
   "cell_type": "markdown",
   "id": "3bb581ea",
   "metadata": {},
   "source": [
    "Younger people, with ages between 30 and 50 have more friends on average than older people, with ages between 30 and 50."
   ]
  },
  {
   "cell_type": "markdown",
   "id": "326798f7",
   "metadata": {},
   "source": [
    "#### Whats the average usage of mobile and website for people with ages between 13 and 25 "
   ]
  },
  {
   "cell_type": "code",
   "execution_count": 18,
   "id": "8873cac1",
   "metadata": {},
   "outputs": [
    {
     "name": "stdout",
     "output_type": "stream",
     "text": [
      "+------------------+-----------------+\n",
      "|   avg_mobilelikes|     avg_wwwlikes|\n",
      "+------------------+-----------------+\n",
      "|123.98981737425284|55.50010631511801|\n",
      "+------------------+-----------------+\n",
      "\n"
     ]
    }
   ],
   "source": [
    "query = \"SELECT AVG(mobile_likes) AS avg_mobilelikes, AVG(www_likes) AS avg_wwwlikes FROM fb WHERE age >= 13 AND age <= 25 \"\n",
    "result = spark.sql(query).show()"
   ]
  },
  {
   "cell_type": "markdown",
   "id": "186ba8e7",
   "metadata": {},
   "source": [
    "#### Whats the average usage of mobile and website for people with ages between 30 and 50 "
   ]
  },
  {
   "cell_type": "code",
   "execution_count": 19,
   "id": "3176e819",
   "metadata": {},
   "outputs": [
    {
     "name": "stdout",
     "output_type": "stream",
     "text": [
      "+-----------------+------------------+\n",
      "|  avg_mobilelikes|      avg_wwwlikes|\n",
      "+-----------------+------------------+\n",
      "|99.11257820927725|32.016871628910465|\n",
      "+-----------------+------------------+\n",
      "\n"
     ]
    }
   ],
   "source": [
    "query = \"SELECT AVG(mobile_likes) AS avg_mobilelikes, AVG(www_likes) AS avg_wwwlikes FROM fb WHERE age >= 30 AND age <= 50 \"\n",
    "result = spark.sql(query).show()"
   ]
  },
  {
   "cell_type": "markdown",
   "id": "3054894d",
   "metadata": {},
   "source": [
    "#### Whats the average usage of mobile and website for people above 50"
   ]
  },
  {
   "cell_type": "code",
   "execution_count": 20,
   "id": "06315faa",
   "metadata": {},
   "outputs": [
    {
     "name": "stdout",
     "output_type": "stream",
     "text": [
      "+----------------+-----------------+\n",
      "| avg_mobilelikes|     avg_wwwlikes|\n",
      "+----------------+-----------------+\n",
      "|89.4766420939286|69.11944007288992|\n",
      "+----------------+-----------------+\n",
      "\n"
     ]
    }
   ],
   "source": [
    "query = \"SELECT AVG(mobile_likes) AS avg_mobilelikes, AVG(www_likes) AS avg_wwwlikes FROM fb WHERE age >50 \"\n",
    "result = spark.sql(query).show()"
   ]
  },
  {
   "cell_type": "markdown",
   "id": "4e13e942",
   "metadata": {},
   "source": [
    "Despite the differences of ages, the mobile application have higher usage than the web page."
   ]
  },
  {
   "cell_type": "markdown",
   "id": "f39f0f16",
   "metadata": {},
   "source": [
    "#### Top 5 users with more friends on Facebook"
   ]
  },
  {
   "cell_type": "code",
   "execution_count": 40,
   "id": "cfc61cd1",
   "metadata": {},
   "outputs": [
    {
     "name": "stdout",
     "output_type": "stream",
     "text": [
      "+-------+------+------------+\n",
      "| userid|gender|friend_count|\n",
      "+-------+------+------------+\n",
      "|2090699|female|        4923|\n",
      "|1660276|  male|        4917|\n",
      "|1926655|female|        4863|\n",
      "|1685573|  male|        4845|\n",
      "|1386477|  male|        4844|\n",
      "+-------+------+------------+\n",
      "\n"
     ]
    }
   ],
   "source": [
    "query = \"SELECT userid, gender, friend_count FROM fb ORDER BY friend_count DESC LIMIT 5\"\n",
    "result = spark.sql(query).show()"
   ]
  },
  {
   "cell_type": "markdown",
   "id": "a9b01f7d",
   "metadata": {},
   "source": [
    "The users ids with more friends are 2090699, 1660276, 1926655, 1685573, 1386477."
   ]
  },
  {
   "cell_type": "markdown",
   "id": "f1fec9f3",
   "metadata": {},
   "source": [
    "#### Top 5 users that recived more likes on Facebook"
   ]
  },
  {
   "cell_type": "code",
   "execution_count": 38,
   "id": "32ef1695",
   "metadata": {},
   "outputs": [
    {
     "name": "stdout",
     "output_type": "stream",
     "text": [
      "+-------+------+--------------+\n",
      "| userid|gender|likes_received|\n",
      "+-------+------+--------------+\n",
      "|1674584|female|        261197|\n",
      "|1441676|female|        178166|\n",
      "|1715925|female|        152014|\n",
      "|2063006|female|        106025|\n",
      "|1053087|  male|         82623|\n",
      "+-------+------+--------------+\n",
      "\n"
     ]
    }
   ],
   "source": [
    "query = \"SELECT userid, gender, likes_received FROM fb ORDER BY likes_received DESC LIMIT 5\"\n",
    "result = spark.sql(query).show()"
   ]
  },
  {
   "cell_type": "markdown",
   "id": "f2886277",
   "metadata": {},
   "source": [
    "The users ids who recived more likes are 1674584, 1441676, 1715925, 2063006, 1053087."
   ]
  },
  {
   "cell_type": "markdown",
   "id": "be530031",
   "metadata": {},
   "source": [
    "#### Top 5 users who gave more likes on Facebook"
   ]
  },
  {
   "cell_type": "code",
   "execution_count": 39,
   "id": "dfb51fa5",
   "metadata": {},
   "outputs": [
    {
     "name": "stdout",
     "output_type": "stream",
     "text": [
      "+-------+------+-----+\n",
      "| userid|gender|likes|\n",
      "+-------+------+-----+\n",
      "|1684195|  male|25111|\n",
      "|1656477|  male|21652|\n",
      "|1489463|female|16732|\n",
      "|1429178|female|16583|\n",
      "|1267229|female|14799|\n",
      "+-------+------+-----+\n",
      "\n"
     ]
    }
   ],
   "source": [
    "query = \"SELECT userid, gender, likes FROM fb ORDER BY likes DESC LIMIT 5\"\n",
    "result = spark.sql(query).show()"
   ]
  },
  {
   "cell_type": "markdown",
   "id": "28f0d080",
   "metadata": {},
   "source": [
    "The users ids who recived more likes are 1684195, 1656477, 1489463, 1429178, 1267229."
   ]
  }
 ],
 "metadata": {
  "kernelspec": {
   "display_name": "Python 3 (ipykernel)",
   "language": "python",
   "name": "python3"
  },
  "language_info": {
   "codemirror_mode": {
    "name": "ipython",
    "version": 3
   },
   "file_extension": ".py",
   "mimetype": "text/x-python",
   "name": "python",
   "nbconvert_exporter": "python",
   "pygments_lexer": "ipython3",
   "version": "3.9.7"
  }
 },
 "nbformat": 4,
 "nbformat_minor": 5
}
